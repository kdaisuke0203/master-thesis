{
 "cells": [
  {
   "cell_type": "code",
   "execution_count": 1,
   "metadata": {},
   "outputs": [],
   "source": [
    "# the temporal difference 0 method to find the optimal policy\n",
    "# only policy evaluation, not optimization\n",
    "import numpy as np\n",
    "import matplotlib.pyplot as plt\n",
    "import scipy.io\n",
    "\n",
    "#os.environ['KMP_DUPLICATE_LIB_OK']='True'\n",
    "datax = scipy.io.loadmat(\"xtrain_hati20.mat\")\n",
    "z_true = scipy.io.loadmat(\"trj_hati.mat\")\n",
    "trj_data = z_true[\"xxhati\"]\n",
    "spike_data = datax[\"yy\"]\n",
    "\n",
    "GAMMA = 0.9\n",
    "ALPHA = 0.1"
   ]
  },
  {
   "cell_type": "code",
   "execution_count": 2,
   "metadata": {},
   "outputs": [],
   "source": [
    "# initialize V(s) and returns\n",
    "V = np.zeros((12,12))"
   ]
  },
  {
   "cell_type": "code",
   "execution_count": 7,
   "metadata": {},
   "outputs": [],
   "source": [
    "# repeat until convergence\n",
    "for it in range(10):\n",
    "    for t in range(499):\n",
    "        x = int(trj_data[t][0]) + 6\n",
    "        y = int(trj_data[t][1])+6\n",
    "        x_next = int(trj_data[t+1][0])+6\n",
    "        y_next = int(trj_data[t+1][1])+6\n",
    "        if y == 3 or x == 1 or y == 1:\n",
    "            r = 1\n",
    "        else: r=1\n",
    "        V[x][y] = V[x][y] + ALPHA*(r + GAMMA*V[x_next][y_next] - V[x][y])"
   ]
  },
  {
   "cell_type": "code",
   "execution_count": 10,
   "metadata": {},
   "outputs": [
    {
     "data": {
      "image/png": "[encoded data removed]",
      "text/plain": [
       "<Figure size 432x288 with 2 Axes>"
      ]
     },
     "metadata": {
      "needs_background": "light"
     },
     "output_type": "display_data"
    }
   ],
   "source": [
    "X, Y = np.mgrid[0:13:1, 0:13:1]\n",
    "#X-=.0\n",
    "#Y-=.0\n",
    "#print(V)\n",
    "z=np.zeros([12,12])\n",
    "for i in range(12):\n",
    "    for j in range(12):\n",
    "        z[i,j] = V[i][j]\n",
    "fig, ax = plt.subplots()\n",
    "im = ax.pcolormesh(X, Y, z, cmap='inferno',vmin=0,vmax=8)\n",
    "ax.set_xlabel(\"X\")\n",
    "ax.set_ylabel(\"Y\")\n",
    "cbar = fig.colorbar(im)\n",
    "cbar.set_label(\"Z\")\n",
    "plt.show()"
   ]
  },
  {
   "cell_type": "code",
   "execution_count": null,
   "metadata": {},
   "outputs": [],
   "source": []
  }
 ],
 "metadata": {
  "kernelspec": {
   "display_name": "Environment (conda_anaconda3)",
   "language": "python",
   "name": "conda_anaconda3"
  },
  "language_info": {
   "codemirror_mode": {
    "name": "ipython",
    "version": 3
   },
   "file_extension": ".py",
   "mimetype": "text/x-python",
   "name": "python",
   "nbconvert_exporter": "python",
   "pygments_lexer": "ipython3",
   "version": "3.8.5"
  }
 },
 "nbformat": 4,
 "nbformat_minor": 1
}
