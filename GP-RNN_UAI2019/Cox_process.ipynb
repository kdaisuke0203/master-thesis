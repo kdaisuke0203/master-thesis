{
 "cells": [
  {
   "cell_type": "code",
   "execution_count": 1,
   "metadata": {},
   "outputs": [],
   "source": [
    "\"\"\"A Cox process model for spatial analysis\n",
    "(Cox, 1955; Miller et al., 2014).\n",
    "The data set is a N x V matrix. There are N NBA players, X =\n",
    "{(x_1, ..., x_N)}, where each x_n has a set of V counts. x_{n, v} is\n",
    "the number of attempted basketball shots for the nth NBA player at\n",
    "location v.\n",
    "We model a latent intensity function for each data point. Let K be the\n",
    "N x V x V covariance matrix applied to the data set X with fixed\n",
    "kernel hyperparameters, where a slice K_n is the V x V covariance\n",
    "matrix over counts for a data point x_n.\n",
    "For n = 1, ..., N,\n",
    "  p(f_n) = N(f_n | 0, K_n),\n",
    "  p(x_n | f_n) = \\prod_{v=1}^V p(x_{n,v} | f_{n,v}),\n",
    "    where p(x_{n,v} | f_{n, v}) = Poisson(x_{n,v} | exp(f_{n,v})).\n",
    "\"\"\"\n",
    "\n",
    "# cox process is one of poission process latent variable model that enlighen our model\n",
    "from __future__ import absolute_import\n",
    "from __future__ import division\n",
    "from __future__ import print_function\n",
    "\n",
    "import edward as ed\n",
    "import numpy as np\n",
    "import tensorflow as tf\n",
    "import matplotlib.pyplot as plt\n",
    "\n",
    "from edward.models import MultivariateNormalTriL, Normal, Poisson\n",
    "from edward.util import rbf\n",
    "from scipy.stats import multivariate_normal, poisson\n",
    "import os\n",
    "os.environ[\"CUDA_VISIBLE_DEVICES\"] = \"2\""
   ]
  },
  {
   "cell_type": "code",
   "execution_count": 2,
   "metadata": {},
   "outputs": [],
   "source": [
    "def build_toy_dataset(N, V):\n",
    "    \"\"\"A simulator mimicking the data set from 2015-2016 NBA season with\n",
    "    308 NBA players and ~150,000 shots.\"\"\"\n",
    "    L = np.tril(np.random.normal(2.5, 0.1, size=[V, V]))\n",
    "    K = np.matmul(L, L.T)\n",
    "    x = np.zeros([N, V])\n",
    "    for n in range(N):\n",
    "        f_n = multivariate_normal.rvs(cov=K, size=1)\n",
    "        for v in range(V):\n",
    "            x[n, v] = poisson.rvs(mu=np.exp(f_n[v]), size=1)\n",
    "\n",
    "    return x"
   ]
  },
  {
   "cell_type": "code",
   "execution_count": 3,
   "metadata": {},
   "outputs": [
    {
     "name": "stderr",
     "output_type": "stream",
     "text": [
      "/home/roger/anaconda3/envs/tensorflow1_5/lib/python3.6/site-packages/edward/util/random_variables.py:52: FutureWarning: Conversion of the second argument of issubdtype from `float` to `np.floating` is deprecated. In future, it will be treated as `np.float64 == np.dtype(float).type`.\n",
      "  not np.issubdtype(value.dtype, np.float) and \\\n"
     ]
    },
    {
     "name": "stdout",
     "output_type": "stream",
     "text": [
      "5000/5000 [100%] ██████████████████████████████ Elapsed: 8s | Loss: 4693.404\n"
     ]
    }
   ],
   "source": [
    "ed.set_seed(42)\n",
    "\n",
    "N = 50  # number of NBA players\n",
    "V = 2  # number of shot locations\n",
    "\n",
    "# DATA\n",
    "x_data = build_toy_dataset(N, V)\n",
    "\n",
    "# MODEL\n",
    "x_ph = tf.placeholder(tf.float32, [N, V])  # inputs to Gaussian Process\n",
    "\n",
    "# Form (N, V, V) covariance, one matrix per data point.\n",
    "K = tf.stack([rbf(tf.reshape(xn, [V, 1])) + tf.diag([1e-6, 1e-6])\n",
    "              for xn in tf.unstack(x_ph)])\n",
    "f = MultivariateNormalTriL(loc=tf.zeros([N, V]), scale_tril=tf.cholesky(K))\n",
    "x = Poisson(rate=tf.exp(f))\n",
    "\n",
    "# INFERENCE\n",
    "qf = Normal(loc=tf.Variable(tf.random_normal([N, V])),\n",
    "            scale=tf.nn.softplus(tf.Variable(tf.random_normal([N, V]))))\n",
    "\n",
    "inference = ed.KLqp({f: qf}, data={x: x_data, x_ph: x_data})\n",
    "inference.run(n_iter=5000)"
   ]
  },
  {
   "cell_type": "code",
   "execution_count": 4,
   "metadata": {},
   "outputs": [
    {
     "data": {
      "image/png": "[encoded data removed]",
      "text/plain": [
       "<Figure size 432x288 with 1 Axes>"
      ]
     },
     "metadata": {
      "needs_background": "light"
     },
     "output_type": "display_data"
    },
    {
     "data": {
      "image/png": "[encoded data removed]",
      "text/plain": [
       "<Figure size 432x288 with 1 Axes>"
      ]
     },
     "metadata": {
      "needs_background": "light"
     },
     "output_type": "display_data"
    }
   ],
   "source": [
    "# Evaluate\n",
    "x_post = ed.copy(x, {f: qf})\n",
    "x_post1 = x_post.eval()\n",
    "plt.plot(x_post1[:,0])\n",
    "plt.figure()\n",
    "plt.plot(x_data[:,0])\n",
    "plt.show()"
   ]
  },
  {
   "cell_type": "code",
   "execution_count": null,
   "metadata": {
    "collapsed": true
   },
   "outputs": [],
   "source": []
  }
 ],
 "metadata": {
  "kernelspec": {
   "display_name": "Python 3",
   "language": "python",
   "name": "python3"
  },
  "language_info": {
   "codemirror_mode": {
    "name": "ipython",
    "version": 3
   },
   "file_extension": ".py",
   "mimetype": "text/x-python",
   "name": "python",
   "nbconvert_exporter": "python",
   "pygments_lexer": "ipython3",
   "version": "3.6.8"
  }
 },
 "nbformat": 4,
 "nbformat_minor": 2
}
